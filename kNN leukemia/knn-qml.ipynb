{
 "cells": [
  {
   "cell_type": "code",
   "execution_count": 1,
   "metadata": {},
   "outputs": [],
   "source": [
    "import sys\n",
    "from pennylane import numpy as np\n",
    "import pennylane as qml\n",
    "import pandas as pd\n",
    "from sklearn.decomposition import PCA\n",
    "from sklearn.preprocessing import StandardScaler\n",
    "import matplotlib.pyplot as plt\n",
    "\n"
   ]
  },
  {
   "cell_type": "markdown",
   "metadata": {},
   "source": [
    "### Data Loading\n",
    "\n",
    "First we load the data from the csv file using Pandas and create labels based on the the types of Leukemia."
   ]
  },
  {
   "cell_type": "code",
   "execution_count": null,
   "metadata": {},
   "outputs": [],
   "source": [
    "df  = pd.read_csv(\"Leukemia_GSE9476.csv\")\n",
    "types = df[\"type\"]\n",
    "\n",
    "\n",
    "\n",
    "# array to store labels for classification of Bone Marrow Leukemia\n",
    "# label 1 if type is \"Bone_Marrow\", 0 otherwise\n",
    "labels = np.zeros(len(types), dtype=int)\n",
    "\n",
    "# labels_m: array to store labels for classification into multiple leukemia types\n",
    "# labels assigned according to key-value pairs in labels_dict\n",
    "labels_dict = {\"AML\" : 1, \"Bone_Marrow_CD34\" : 0, \"Bone_Marrow\" : 2, \"PB\" : 3, \"PBSC_CD34\" : 4}\n",
    "labels_m = np.zeros(len(types), dtype=int)\n",
    "\n",
    "for i in range(len(labels)):\n",
    "    for type in labels_dict.keys():\n",
    "        if types[i] == type:\n",
    "            labels_m[i] = labels_dict[type]\n",
    "    if types[i] == \"Bone_Marrow\":\n",
    "        labels[i] = 1\n",
    "\n",
    "# cleaning up the data and droping unnecessary information\n",
    "dff = df.drop(['samples', 'type'], axis = 1)"
   ]
  },
  {
   "cell_type": "markdown",
   "metadata": {},
   "source": [
    "### Principal Component Analysis\n",
    "\n",
    "We use sklearn to implement principal component analysis with 16 components, such that we can encode all the components from a sample into 3 qubits. This was done to save computational time, and it would also allow us to run on freely available IBM NISQ devices using 7 qubits. This is because we would need 3x2 qubits for encoding 2 samples, and 1 ancilla qubit for the control of swap test to measure distances. "
   ]
  },
  {
   "cell_type": "code",
   "execution_count": null,
   "metadata": {},
   "outputs": [],
   "source": [
    "dff = StandardScaler().fit_transform(dff)\n",
    "pca = PCA(n_components=8)\n",
    "pca_dff = pd.DataFrame(data = pca.fit_transform(dff),columns = ['pc'+str(i) for i in range(1,8)] )"
   ]
  },
  {
   "cell_type": "markdown",
   "metadata": {},
   "source": [
    "### SWAP Test\n",
    "\n",
    "Here we implement the matrix corresponding to the controlled unitary which is used for the swap test, and then use it to calculate the distance between 2 amplitude encoded vectors A and B."
   ]
  },
  {
   "cell_type": "code",
   "execution_count": null,
   "metadata": {},
   "outputs": [],
   "source": [
    "def multi_qubit_swap(num_qubits):\n",
    "    dim = 2**(2*num_qubits)\n",
    "    matrix = np.zeros((dim,dim))\n",
    "    for i in range(dim):\n",
    "        st1 = bin(i)[2:].zfill(2*num_qubits)\n",
    "        st2 = st1[::-1]\n",
    "        matrix[int(st1,2), int(st2,2)]=1\n",
    "    \n",
    "    return matrix"
   ]
  },
  {
   "cell_type": "code",
   "execution_count": null,
   "metadata": {},
   "outputs": [],
   "source": [
    "def distance(A, B):\n",
    "\n",
    "    wires_num = int(np.ceil(np.log2(len(A))))\n",
    "\n",
    "    dev = qml.device(\"default.qubit\", wires=2*wires_num+1)\n",
    "    @qml.qnode(dev)\n",
    "    def circuit(AA,BB):\n",
    "        # we need to pad our vectors in case the number of features is not exactly a power of 2\n",
    "        AA_pad, BB_pad  = np.zeros(2**wires_num),np.zeros(2**wires_num) \n",
    "        AA_pad[:len(AA)], BB_pad[:len(BB)] = AA, BB \n",
    "        \n",
    "        feet = np.kron(AA_pad, BB_pad)\n",
    "        qml.AmplitudeEmbedding(features=feet, wires=range(1,2*wires_num+1), normalize=True)\n",
    "        qml.Hadamard(wires=0)\n",
    "        qml.ControlledQubitUnitary(multi_qubit_swap(wires_num), control_wires=[0], wires=range(1, 2*wires_num+1))\n",
    "\n",
    "        qml.Hadamard(wires=0)\n",
    "        return qml.probs(wires=0)\n",
    "    \n",
    "    x = circuit(A,B)\n",
    "    x = x[0]\n",
    "    innerprod = np.sqrt(2*(x-0.5))\n",
    "    return np.sqrt(2*(1-innerprod)"
   ]
  },
  {
   "cell_type": "markdown",
   "metadata": {},
   "source": [
    "### Making Predictions\n",
    "\n",
    "For each sample point, we create the model using all other sample points and measure distances to the nearest k neighbours to determine the label and test the accuracy over all data points."
   ]
  },
  {
   "cell_type": "code",
   "execution_count": null,
   "metadata": {
    "tags": []
   },
   "outputs": [],
   "source": [
    "def predict(dataset, labels, new, k):\n",
    "\n",
    "    def k_nearest_classes():\n",
    "        \"\"\"Function that returns a list of k near neighbors.\"\"\"\n",
    "        distances = []\n",
    "        for data in dataset:\n",
    "            distances.append(distance(data, new))\n",
    "        nearest = []\n",
    "        for _ in range(k):\n",
    "            indx = np.argmin(distances)\n",
    "            nearest.append(indx)\n",
    "            distances[indx] += 2\n",
    "\n",
    "        return [labels[i] for i in nearest]\n",
    "\n",
    "    output = k_nearest_classes()\n",
    "\n",
    "    return 1 if len([i for i in output if i == 1])>len(output)/2 else 0"
   ]
  },
  {
   "cell_type": "code",
   "execution_count": null,
   "metadata": {},
   "outputs": [],
   "source": [
    "def accuracy(k):\n",
    "    acc = 0\n",
    "    for indx,data in enumerate(pca_dff.values):\n",
    "        dataset_n,labels_n = list(pca_dff.values.copy()),list(labels.copy())\n",
    "        data_n,label_n = dataset_n.pop(indx),labels_n.pop(indx)\n",
    "        prediction = predict(dataset_n, labels_n, data_n, k)\n",
    "        if prediction==label_n:\n",
    "            acc+=1\n",
    "    return acc/len(labels)"
   ]
  },
  {
   "cell_type": "markdown",
   "metadata": {},
   "source": [
    "### For k=3, we get accuracy of 80%"
   ]
  },
  {
   "cell_type": "code",
   "execution_count": null,
   "metadata": {},
   "outputs": [],
   "source": [
    "# for i in range(3,10):\n",
    "#     print(f\"k={i}, acc: \",accuracy(i))\n",
    "\n",
    "\n",
    "plt.plot(range(3,10), [accuracy(i) for i in range(3,7)], c='r')\n",
    "plt.xlabel(\"k\")\n",
    "plt.ylabel(\"Accuracy\")\n",
    "plt.grid()\n",
    "plt.save_fig(\"plot.svg\")"
   ]
  }
 ],
 "metadata": {
  "kernelspec": {
   "display_name": "Python 3",
   "language": "python",
   "name": "python3"
  },
  "language_info": {
   "codemirror_mode": {
    "name": "ipython",
    "version": 3
   },
   "file_extension": ".py",
   "mimetype": "text/x-python",
   "name": "python",
   "nbconvert_exporter": "python",
   "pygments_lexer": "ipython3",
   "version": "3.8.5"
  }
 },
 "nbformat": 4,
 "nbformat_minor": 4
}
